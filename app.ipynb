{
  "cells": [
    {
      "cell_type": "code",
      "execution_count": null,
      "metadata": {
        "id": "jMf5bInPVadu"
      },
      "outputs": [],
      "source": [
        "code = '''\n",
        "import streamlit as st\n",
        "import os\n",
        "import requests\n",
        "from bs4 import BeautifulSoup\n",
        "from groq import Groq\n",
        "from gtts import gTTS\n",
        "from io import BytesIO\n",
        "\n",
        "# Function to scrape the article\n",
        "def scrape_article(url):\n",
        "    response = requests.get(url)\n",
        "    if response.status_code == 200:\n",
        "        soup = BeautifulSoup(response.content, 'html.parser')\n",
        "        paragraphs = soup.find_all('p')\n",
        "        article_text = \"\\\\n\".join([para.get_text() for para in paragraphs])\n",
        "        return article_text\n",
        "    else:\n",
        "        return None\n",
        "\n",
        "# Function to summarize and generate key points using Groq's LLaMA model\n",
        "def summarize_article(article_text):\n",
        "    os.environ[\"GROQ_API_KEY\"] = \"Your API Key\"\n",
        "    client = Groq()\n",
        "\n",
        "    message = {\n",
        "        \"role\": \"user\",\n",
        "        \"content\": f\"Please summarize the following news article content, generate an outline, and highlight key points:\\\\n\\\\\"{article_text}\\\\\"\"\n",
        "    }\n",
        "\n",
        "    completion = client.chat.completions.create(\n",
        "        model=\"llama-3.1-70b-versatile\",  # LLaMA 2-70B model\n",
        "        messages=[message],\n",
        "        temperature=0.7,\n",
        "        max_tokens=1024,\n",
        "        top_p=0.9,\n",
        "        stream=False\n",
        "    )\n",
        "\n",
        "    response = completion.choices[0].message.content\n",
        "    return response\n",
        "\n",
        "# Function to convert text to speech\n",
        "def text_to_speech(text):\n",
        "    tts = gTTS(text=text, lang='en')\n",
        "    audio_bytes = BytesIO()\n",
        "    tts.write_to_fp(audio_bytes)\n",
        "    audio_bytes.seek(0)\n",
        "    return audio_bytes\n",
        "\n",
        "# Streamlit UI\n",
        "st.title(\"SnapNews: AI Insight Summaries\")\n",
        "st.subheader(\"Input a News Article URL\")\n",
        "\n",
        "# Step 1: Input URL\n",
        "article_url = st.text_input(\"Enter the URL of a news article:\")\n",
        "\n",
        "if article_url:\n",
        "    st.write(\"Scraping article content...\")\n",
        "\n",
        "    # Step 2: Scrape the article\n",
        "    article_text = scrape_article(article_url)\n",
        "    if article_text:\n",
        "        st.write(\"Article content successfully scraped.\")\n",
        "        st.text_area(\"Extracted Article Text:\", article_text, height=200)\n",
        "\n",
        "        # Step 3: Summarize article\n",
        "        st.write(\"Summarizing the article...\")\n",
        "        summary = summarize_article(article_text)\n",
        "\n",
        "        # Display the summary\n",
        "        st.subheader(\"Summary, Outline, and Key Points:\")\n",
        "        st.write(summary)\n",
        "\n",
        "        # Step 4: Text to Speech\n",
        "        st.write(\"Converting summary to speech...\")\n",
        "        audio_data = text_to_speech(summary)\n",
        "\n",
        "        # Play the audio in Streamlit\n",
        "        st.audio(audio_data, format='audio/mp3')\n",
        "\n",
        "        # Option to download the summary audio\n",
        "        st.download_button(\"Download Summary Audio\", audio_data, file_name=\"summary.mp3\")\n",
        "    else:\n",
        "        st.error(\"Failed to retrieve the article. Please check the URL.\")\n",
        "'''\n",
        "\n",
        "with open('app.py', 'w') as f:\n",
        "    f.write(code)"
      ]
    },
    {
      "cell_type": "code",
      "execution_count": null,
      "metadata": {
        "colab": {
          "base_uri": "https://localhost:8080/"
        },
        "id": "NxFippwnV5wj",
        "outputId": "d9f18bea-e6ae-4c41-c8ca-fdbd3e5ef436"
      },
      "outputs": [
        {
          "output_type": "stream",
          "name": "stdout",
          "text": [
            "\u001b[2K   \u001b[90m━━━━━━━━━━━━━━━━━━━━━━━━━━━━━━━━━━━━━━━━\u001b[0m \u001b[32m8.7/8.7 MB\u001b[0m \u001b[31m47.0 MB/s\u001b[0m eta \u001b[36m0:00:00\u001b[0m\n",
            "\u001b[2K   \u001b[90m━━━━━━━━━━━━━━━━━━━━━━━━━━━━━━━━━━━━━━━━\u001b[0m \u001b[32m106.5/106.5 kB\u001b[0m \u001b[31m5.7 MB/s\u001b[0m eta \u001b[36m0:00:00\u001b[0m\n",
            "\u001b[2K   \u001b[90m━━━━━━━━━━━━━━━━━━━━━━━━━━━━━━━━━━━━━━━━\u001b[0m \u001b[32m207.3/207.3 kB\u001b[0m \u001b[31m12.5 MB/s\u001b[0m eta \u001b[36m0:00:00\u001b[0m\n",
            "\u001b[2K   \u001b[90m━━━━━━━━━━━━━━━━━━━━━━━━━━━━━━━━━━━━━━━━\u001b[0m \u001b[32m76.4/76.4 kB\u001b[0m \u001b[31m4.1 MB/s\u001b[0m eta \u001b[36m0:00:00\u001b[0m\n",
            "\u001b[2K   \u001b[90m━━━━━━━━━━━━━━━━━━━━━━━━━━━━━━━━━━━━━━━━\u001b[0m \u001b[32m77.9/77.9 kB\u001b[0m \u001b[31m4.3 MB/s\u001b[0m eta \u001b[36m0:00:00\u001b[0m\n",
            "\u001b[2K   \u001b[90m━━━━━━━━━━━━━━━━━━━━━━━━━━━━━━━━━━━━━━━━\u001b[0m \u001b[32m6.9/6.9 MB\u001b[0m \u001b[31m56.8 MB/s\u001b[0m eta \u001b[36m0:00:00\u001b[0m\n",
            "\u001b[2K   \u001b[90m━━━━━━━━━━━━━━━━━━━━━━━━━━━━━━━━━━━━━━━━\u001b[0m \u001b[32m82.9/82.9 kB\u001b[0m \u001b[31m5.4 MB/s\u001b[0m eta \u001b[36m0:00:00\u001b[0m\n",
            "\u001b[2K   \u001b[90m━━━━━━━━━━━━━━━━━━━━━━━━━━━━━━━━━━━━━━━━\u001b[0m \u001b[32m62.7/62.7 kB\u001b[0m \u001b[31m3.5 MB/s\u001b[0m eta \u001b[36m0:00:00\u001b[0m\n",
            "\u001b[2K   \u001b[90m━━━━━━━━━━━━━━━━━━━━━━━━━━━━━━━━━━━━━━━━\u001b[0m \u001b[32m58.3/58.3 kB\u001b[0m \u001b[31m3.6 MB/s\u001b[0m eta \u001b[36m0:00:00\u001b[0m\n",
            "\u001b[?25h"
          ]
        }
      ],
      "source": [
        "! pip install streamlit requests beautifulsoup4 groq gtts -q"
      ]
    },
    {
      "cell_type": "code",
      "execution_count": null,
      "metadata": {
        "colab": {
          "base_uri": "https://localhost:8080/"
        },
        "id": "Px9sGPhfe_gU",
        "outputId": "876e6368-97c7-4086-e26c-d380d0ed6242"
      },
      "outputs": [
        {
          "output_type": "stream",
          "name": "stdout",
          "text": [
            "34.148.178.51\n"
          ]
        }
      ],
      "source": [
        "!wget -q -O - ipv4.icanhazip.com"
      ]
    },
    {
      "cell_type": "code",
      "execution_count": null,
      "metadata": {
        "colab": {
          "base_uri": "https://localhost:8080/"
        },
        "id": "Tt4nTajoV_G0",
        "outputId": "47462669-e2dc-4da6-a341-fb7b5a11fb08"
      },
      "outputs": [
        {
          "output_type": "stream",
          "name": "stdout",
          "text": [
            "\n",
            "Collecting usage statistics. To deactivate, set browser.gatherUsageStats to false.\n",
            "\u001b[0m\n",
            "\u001b[0m\n",
            "\u001b[34m\u001b[1m  You can now view your Streamlit app in your browser.\u001b[0m\n",
            "\u001b[0m\n",
            "\u001b[34m  Local URL: \u001b[0m\u001b[1mhttp://localhost:8501\u001b[0m\n",
            "\u001b[34m  Network URL: \u001b[0m\u001b[1mhttp://172.28.0.12:8501\u001b[0m\n",
            "\u001b[34m  External URL: \u001b[0m\u001b[1mhttp://34.148.178.51:8501\u001b[0m\n",
            "\u001b[0m\n",
            "\u001b[1G\u001b[0JNeed to install the following packages:\n",
            "  localtunnel@2.0.2\n",
            "Ok to proceed? (y) \u001b[20Gy\n",
            "\u001b[K\u001b[?25hyour url is: https://solid-bears-boil.loca.lt\n",
            "\u001b[34m  Stopping...\u001b[0m\n",
            "^C\n"
          ]
        }
      ],
      "source": [
        "! streamlit run app.py & npx localtunnel --port 8501"
      ]
    }
  ],
  "metadata": {
    "colab": {
      "provenance": []
    },
    "kernelspec": {
      "display_name": "Python 3",
      "name": "python3"
    },
    "language_info": {
      "name": "python"
    }
  },
  "nbformat": 4,
  "nbformat_minor": 0
}
